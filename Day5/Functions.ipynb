{
 "cells": [
  {
   "cell_type": "markdown",
   "metadata": {},
   "source": [
    "## Functions without arguments and return statement"
   ]
  },
  {
   "cell_type": "code",
   "execution_count": 1,
   "metadata": {},
   "outputs": [],
   "source": [
    "def check_even_1():\n",
    "    for i in range(10):\n",
    "        if i%2 == 0:\n",
    "            print('{} is an even number'.format(i))"
   ]
  },
  {
   "cell_type": "code",
   "execution_count": 2,
   "metadata": {},
   "outputs": [
    {
     "name": "stdout",
     "output_type": "stream",
     "text": [
      "0 is an even number\n",
      "2 is an even number\n",
      "4 is an even number\n",
      "6 is an even number\n",
      "8 is an even number\n"
     ]
    }
   ],
   "source": [
    "check_even_1()"
   ]
  },
  {
   "cell_type": "markdown",
   "metadata": {},
   "source": [
    "## Functions with arguments and return satement"
   ]
  },
  {
   "cell_type": "code",
   "execution_count": 3,
   "metadata": {},
   "outputs": [],
   "source": [
    "def check_even_2(r):\n",
    "    for i in range(r):\n",
    "        if i%2 == 0:\n",
    "            return i       "
   ]
  },
  {
   "cell_type": "code",
   "execution_count": 4,
   "metadata": {},
   "outputs": [
    {
     "data": {
      "text/plain": [
       "0"
      ]
     },
     "execution_count": 4,
     "metadata": {},
     "output_type": "execute_result"
    }
   ],
   "source": [
    "check_even_2(20)"
   ]
  },
  {
   "cell_type": "code",
   "execution_count": 11,
   "metadata": {},
   "outputs": [],
   "source": [
    "def check_lst_even(lst_num):\n",
    "    print(f'Inside the function lst_num is {id(lst_num)}')\n",
    "    lst_num[-1] = 22\n",
    "    lst_result = list()\n",
    "    for num in lst_num:\n",
    "        if num%2 == 0:\n",
    "            lst_result.append(num)\n",
    "    return lst_result"
   ]
  },
  {
   "cell_type": "code",
   "execution_count": 14,
   "metadata": {},
   "outputs": [
    {
     "name": "stdout",
     "output_type": "stream",
     "text": [
      "Before calling function lst_input:[1, 2, 3, 4, 5, 6, 7, 8, 9, 10, 11, 12, 13, 14]\n",
      "139966622856048\n",
      "Inside the function lst_num is 139966622856048\n",
      "[2, 4, 6, 8, 10, 12, 22]\n",
      "After calling the function lst_input [1, 2, 3, 4, 5, 6, 7, 8, 9, 10, 11, 12, 13, 22]\n"
     ]
    }
   ],
   "source": [
    "lst_input = list(range(1,15))\n",
    "print(f'Before calling function lst_input:{lst_input}')\n",
    "print(id(lst_input))\n",
    "print(check_lst_even(lst_input))\n",
    "print(f'After calling the function lst_input {lst_input}')"
   ]
  },
  {
   "cell_type": "code",
   "execution_count": 5,
   "metadata": {},
   "outputs": [],
   "source": [
    "def check_even_mod(r):    \n",
    "    lst_n = list()\n",
    "    for i in range(r):\n",
    "        if i%2 == 0:\n",
    "            lst_n.append(i)\n",
    "    return lst_n"
   ]
  },
  {
   "cell_type": "code",
   "execution_count": 6,
   "metadata": {},
   "outputs": [
    {
     "name": "stdout",
     "output_type": "stream",
     "text": [
      "[0, 2, 4, 6, 8, 10, 12, 14, 16, 18]\n"
     ]
    }
   ],
   "source": [
    "lst_result=check_even_mod(20)\n",
    "print(lst_result)"
   ]
  },
  {
   "cell_type": "markdown",
   "metadata": {},
   "source": [
    "## Functions with named and default arguments"
   ]
  },
  {
   "cell_type": "code",
   "execution_count": 25,
   "metadata": {},
   "outputs": [],
   "source": [
    "def add_num(a,b=0,c=0):\n",
    "    print(f'a:{a},b:{b},c: {c}')\n",
    "    return a+b + c"
   ]
  },
  {
   "cell_type": "code",
   "execution_count": 37,
   "metadata": {},
   "outputs": [
    {
     "name": "stdout",
     "output_type": "stream",
     "text": [
      "Help on function add_num in module __main__:\n",
      "\n",
      "add_num(a, b=0, c=0)\n",
      "\n"
     ]
    }
   ],
   "source": [
    "help(add_num)"
   ]
  },
  {
   "cell_type": "code",
   "execution_count": 64,
   "metadata": {},
   "outputs": [
    {
     "ename": "SyntaxError",
     "evalue": "positional argument follows keyword argument (<ipython-input-64-0072c992b78a>, line 1)",
     "output_type": "error",
     "traceback": [
      "\u001b[0;36m  File \u001b[0;32m\"<ipython-input-64-0072c992b78a>\"\u001b[0;36m, line \u001b[0;32m1\u001b[0m\n\u001b[0;31m    add_num(a=4,10,b= 7)\u001b[0m\n\u001b[0m               ^\u001b[0m\n\u001b[0;31mSyntaxError\u001b[0m\u001b[0;31m:\u001b[0m positional argument follows keyword argument\n"
     ]
    }
   ],
   "source": [
    "add_num(a=4,10,b= 7)"
   ]
  },
  {
   "cell_type": "markdown",
   "metadata": {},
   "source": [
    "## Functions with docstring"
   ]
  },
  {
   "cell_type": "code",
   "execution_count": 36,
   "metadata": {},
   "outputs": [
    {
     "name": "stdout",
     "output_type": "stream",
     "text": [
      "Help on method_descriptor:\n",
      "\n",
      "get(self, key, default=None, /)\n",
      "    Return the value for key if key is in the dictionary, else default.\n",
      "\n"
     ]
    }
   ],
   "source": [
    "help(dict.get)"
   ]
  },
  {
   "cell_type": "code",
   "execution_count": 40,
   "metadata": {},
   "outputs": [],
   "source": [
    "def check_even_mod(r:int)->list:\n",
    "    '''Return list of even numbers between 0 to r\n",
    "    \n",
    "    Usage:\n",
    "    >>>check_even_mod(10)\n",
    "    [0, 2, 4, 6, 8]\n",
    "    '''\n",
    "    ## This is a sample function\n",
    "    lst_n = list()\n",
    "    for i in range(r):\n",
    "        if i%2 == 0:\n",
    "            lst_n.append(i)\n",
    "    return lst_n\n",
    "\n"
   ]
  },
  {
   "cell_type": "code",
   "execution_count": 41,
   "metadata": {},
   "outputs": [
    {
     "name": "stdout",
     "output_type": "stream",
     "text": [
      "Help on function check_even_mod in module __main__:\n",
      "\n",
      "check_even_mod(r: int) -> list\n",
      "    Return list of even numbers between 0 to r\n",
      "    \n",
      "    Usage:\n",
      "    >>>check_even_mod(10)\n",
      "    [0, 2, 4, 6, 8]\n",
      "\n"
     ]
    }
   ],
   "source": [
    "help(check_even_mod)"
   ]
  },
  {
   "cell_type": "code",
   "execution_count": null,
   "metadata": {},
   "outputs": [],
   "source": [
    "check_even_mod()"
   ]
  },
  {
   "cell_type": "code",
   "execution_count": 47,
   "metadata": {},
   "outputs": [],
   "source": [
    "def add_mod(*a):\n",
    "    count = 0\n",
    "    for num in a:\n",
    "        count += num\n",
    "    return count"
   ]
  },
  {
   "cell_type": "code",
   "execution_count": 69,
   "metadata": {},
   "outputs": [
    {
     "ename": "TypeError",
     "evalue": "add_mod() got an unexpected keyword argument 'x'",
     "output_type": "error",
     "traceback": [
      "\u001b[0;31m---------------------------------------------------------------------------\u001b[0m",
      "\u001b[0;31mTypeError\u001b[0m                                 Traceback (most recent call last)",
      "\u001b[0;32m<ipython-input-69-b301b2188540>\u001b[0m in \u001b[0;36m<module>\u001b[0;34m\u001b[0m\n\u001b[0;32m----> 1\u001b[0;31m \u001b[0madd_mod\u001b[0m\u001b[0;34m(\u001b[0m\u001b[0;36m1\u001b[0m\u001b[0;34m,\u001b[0m\u001b[0;36m2\u001b[0m\u001b[0;34m,\u001b[0m\u001b[0;36m3\u001b[0m\u001b[0;34m,\u001b[0m\u001b[0;36m4\u001b[0m\u001b[0;34m,\u001b[0m\u001b[0;36m56.45\u001b[0m\u001b[0;34m,\u001b[0m\u001b[0;36m57\u001b[0m\u001b[0;34m,\u001b[0m\u001b[0mx\u001b[0m\u001b[0;34m=\u001b[0m\u001b[0;36m87\u001b[0m\u001b[0;34m)\u001b[0m\u001b[0;34m\u001b[0m\u001b[0;34m\u001b[0m\u001b[0m\n\u001b[0m",
      "\u001b[0;31mTypeError\u001b[0m: add_mod() got an unexpected keyword argument 'x'"
     ]
    }
   ],
   "source": [
    "add_mod(1,2,3,4,56.45,57,x=87)"
   ]
  },
  {
   "cell_type": "code",
   "execution_count": 50,
   "metadata": {},
   "outputs": [
    {
     "data": {
      "text/plain": [
       "0"
      ]
     },
     "execution_count": 50,
     "metadata": {},
     "output_type": "execute_result"
    }
   ],
   "source": [
    "add_mod()"
   ]
  },
  {
   "cell_type": "code",
   "execution_count": 56,
   "metadata": {},
   "outputs": [],
   "source": [
    "def add_named(**x):\n",
    "    for k,v in x.items():\n",
    "        print(k,v)\n",
    "    return None"
   ]
  },
  {
   "cell_type": "code",
   "execution_count": 58,
   "metadata": {},
   "outputs": [
    {
     "name": "stdout",
     "output_type": "stream",
     "text": [
      "a 5\n",
      "b 6\n",
      "d 67\n"
     ]
    }
   ],
   "source": [
    "add_named(a=5,b=6,d=67)"
   ]
  },
  {
   "cell_type": "code",
   "execution_count": 59,
   "metadata": {},
   "outputs": [],
   "source": [
    "def person(*address,**details):\n",
    "    print(f'The address was found to be')\n",
    "    for lines in address:\n",
    "        print(lines)\n",
    "    print('Details of the person is given below')\n",
    "    for k,v in details.items():\n",
    "        print(f'{k}:{v}')\n",
    "    return None"
   ]
  },
  {
   "cell_type": "code",
   "execution_count": 63,
   "metadata": {},
   "outputs": [
    {
     "data": {
      "text/plain": [
       "[0, 2, 4, 6, 8, 10, 12, 14, 16, 18, [0, 2, 4, 6, 8, 10, 12, 14, 16, 18]]"
      ]
     },
     "execution_count": 63,
     "metadata": {},
     "output_type": "execute_result"
    }
   ],
   "source": [
    "lst_input = list(lst_result)\n",
    "lst_input.append(lst_result)\n",
    "lst_input"
   ]
  },
  {
   "cell_type": "code",
   "execution_count": 60,
   "metadata": {},
   "outputs": [
    {
     "name": "stdout",
     "output_type": "stream",
     "text": [
      "The address was found to be\n",
      "no.1\n",
      " MG road\n",
      "Bangalore \n",
      "560001\n",
      "Details of the person is given below\n",
      "name:Harry\n",
      "company:TCS\n",
      "ID:174958\n"
     ]
    }
   ],
   "source": [
    "person('no.1',' MG road','Bangalore ','560001',name='Harry',company='TCS',ID = '174958')"
   ]
  },
  {
   "cell_type": "code",
   "execution_count": null,
   "metadata": {},
   "outputs": [],
   "source": [
    "def fn(*args,**kwargs)"
   ]
  },
  {
   "cell_type": "code",
   "execution_count": 67,
   "metadata": {},
   "outputs": [],
   "source": [
    "def person_mod(address,**details):\n",
    "    print(f'The address was found to be {address}')\n",
    "    print('Details of the person is given below')\n",
    "    for k,v in details.items():\n",
    "        print(f'{k}:{v}')\n",
    "    return None"
   ]
  },
  {
   "cell_type": "code",
   "execution_count": 68,
   "metadata": {},
   "outputs": [
    {
     "name": "stdout",
     "output_type": "stream",
     "text": [
      "The address was found to be no.1 MG road Bangalore  560001\n",
      "Details of the person is given below\n",
      "name:Harry\n",
      "company:TCS\n",
      "ID:174958\n"
     ]
    }
   ],
   "source": [
    "person_mod('no.1 MG road Bangalore  560001',name='Harry',company='TCS',ID = '174958')"
   ]
  },
  {
   "cell_type": "code",
   "execution_count": null,
   "metadata": {},
   "outputs": [],
   "source": []
  }
 ],
 "metadata": {
  "kernelspec": {
   "display_name": "Python 3",
   "language": "python",
   "name": "python3"
  },
  "language_info": {
   "codemirror_mode": {
    "name": "ipython",
    "version": 3
   },
   "file_extension": ".py",
   "mimetype": "text/x-python",
   "name": "python",
   "nbconvert_exporter": "python",
   "pygments_lexer": "ipython3",
   "version": "3.7.7"
  }
 },
 "nbformat": 4,
 "nbformat_minor": 2
}
