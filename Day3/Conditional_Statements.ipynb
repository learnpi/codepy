{
 "cells": [
  {
   "cell_type": "markdown",
   "metadata": {},
   "source": [
    "## Numerical Datatype"
   ]
  },
  {
   "cell_type": "code",
   "execution_count": null,
   "metadata": {},
   "outputs": [],
   "source": [
    "x = 7687\n",
    "y = 10.35\n",
    "z = 125"
   ]
  },
  {
   "cell_type": "markdown",
   "metadata": {},
   "source": [
    "### Simple If else statement"
   ]
  },
  {
   "cell_type": "markdown",
   "metadata": {},
   "source": [
    "* Find the largest number"
   ]
  },
  {
   "cell_type": "code",
   "execution_count": null,
   "metadata": {},
   "outputs": [],
   "source": [
    "if x>y and x>z:\n",
    "    print('X = {} is the largest number'.format(x))\n",
    "elif y>x and y>z:\n",
    "    print('Y = {} is the largest number'.format(y))\n",
    "else:\n",
    "    print('Z = {} is the largest number'.format(z))\n",
    "    "
   ]
  },
  {
   "cell_type": "markdown",
   "metadata": {},
   "source": [
    "### Nested If else statement"
   ]
  },
  {
   "cell_type": "code",
   "execution_count": null,
   "metadata": {},
   "outputs": [],
   "source": [
    "if x>y :\n",
    "    if x>z:\n",
    "        print('X = {} is the largest number'.format(x))\n",
    "    else:\n",
    "        print('Z = {} is the largest number'.format(z))\n",
    "else:\n",
    "    if y>z:\n",
    "        print('Y = {} is the largest number'.format(y))\n",
    "    else:\n",
    "        print('Z = {} is the largest number'.format(z))\n",
    "    "
   ]
  },
  {
   "cell_type": "markdown",
   "metadata": {},
   "source": [
    "## Text Datatype"
   ]
  },
  {
   "cell_type": "code",
   "execution_count": null,
   "metadata": {},
   "outputs": [],
   "source": [
    "print(dir(str))"
   ]
  },
  {
   "cell_type": "code",
   "execution_count": null,
   "metadata": {},
   "outputs": [],
   "source": [
    "subject = 'artificial intelligence'"
   ]
  },
  {
   "cell_type": "markdown",
   "metadata": {},
   "source": [
    "* Check for the title case"
   ]
  },
  {
   "cell_type": "code",
   "execution_count": null,
   "metadata": {},
   "outputs": [],
   "source": [
    "if not(subject.istitle()):\n",
    "    subject = subject.title()\n",
    "    print('Subject {} is changed to title case'.format(subject))\n",
    "else:\n",
    "    print('Subject {} is in title case'.format(subject))"
   ]
  },
  {
   "cell_type": "markdown",
   "metadata": {},
   "source": [
    "## Lists"
   ]
  },
  {
   "cell_type": "code",
   "execution_count": null,
   "metadata": {},
   "outputs": [],
   "source": [
    "print(dir(list))"
   ]
  },
  {
   "cell_type": "code",
   "execution_count": null,
   "metadata": {},
   "outputs": [],
   "source": [
    "lst_num_1 = [1,2,3,5,6,7,8,9,10]\n",
    "lst_num_2 = [10,9,8,7,6,5,4,3,2,1]"
   ]
  },
  {
   "cell_type": "markdown",
   "metadata": {},
   "source": [
    "* Check the order (ascending or descending)"
   ]
  },
  {
   "cell_type": "code",
   "execution_count": null,
   "metadata": {},
   "outputs": [],
   "source": [
    "if lst_num_2[0] < lst_num_2[-1]:\n",
    "    print('List is in ascending order')\n",
    "else :\n",
    "    print('List is in descending order ')"
   ]
  },
  {
   "cell_type": "markdown",
   "metadata": {},
   "source": [
    "## Dictionary"
   ]
  },
  {
   "cell_type": "code",
   "execution_count": null,
   "metadata": {},
   "outputs": [],
   "source": [
    "print(dir(dict))"
   ]
  },
  {
   "cell_type": "code",
   "execution_count": null,
   "metadata": {},
   "outputs": [],
   "source": [
    "dict_num = {1:'one',2:'two',3:'three',4:'four',5:'five'}"
   ]
  },
  {
   "cell_type": "markdown",
   "metadata": {},
   "source": [
    "* Check for an element in dictionary being a key or value"
   ]
  },
  {
   "cell_type": "code",
   "execution_count": null,
   "metadata": {},
   "outputs": [],
   "source": [
    "element = 'six'"
   ]
  },
  {
   "cell_type": "code",
   "execution_count": null,
   "metadata": {},
   "outputs": [],
   "source": [
    "if element in dict_num.keys():\n",
    "    print('Element {} is a key in the dictionary'.format(element))\n",
    "elif element in dict_num.values():\n",
    "    print('Element {} is a value in the dictionary'.format(element))\n",
    "else:\n",
    "    print('Element {} not found in dictionary'.format(element))"
   ]
  },
  {
   "cell_type": "markdown",
   "metadata": {},
   "source": [
    "<html>\n",
    "    <b> 1. Write a program to prompt for a score between 0.0 and 1.0. If the\n",
    "score is out of range, print an error message. If the score is between 0.0 and 1.0,\n",
    "print a grade using the following table:\n",
    "        <p> Score Grade\n",
    "            <br>>= 0.9 A\n",
    "            <br>>= 0.8 B\n",
    "            <br>>= 0.7 C\n",
    "            <br>>= 0.6 D\n",
    "            <br>< 0.6  F "
   ]
  },
  {
   "cell_type": "code",
   "execution_count": null,
   "metadata": {},
   "outputs": [],
   "source": [
    "# %load if_1.py\n",
    "\n"
   ]
  },
  {
   "cell_type": "markdown",
   "metadata": {},
   "source": [
    "<html>\n",
    "    <b> 3. Write a program to help an user in choosing a fruit when he is ailing from cold . \n",
    "        <br> a. When the user enter the fruit check from the list of edible fruits and non edible fruits\n",
    "        <br> b. Print appropriate message on finding the category of fruit\n",
    "        <br> c. If the fruit is not under the list recommend a doctor suggestion \n",
    "        <p> list of edible fruits \n",
    "            <br> Apple, Gauva, Raspberry, cherry, Jackfruit\n",
    "        <p> List of non-edible fruits\n",
    "            <br> Grapes, Orange,banana,Watermelon, mango"
   ]
  },
  {
   "cell_type": "code",
   "execution_count": null,
   "metadata": {},
   "outputs": [],
   "source": [
    "# %load if_3.py\n",
    "\n"
   ]
  },
  {
   "cell_type": "markdown",
   "metadata": {},
   "source": [
    "<html>\n",
    "    <b> 4. Write a program to help an user in choosing a fruit when he is ailing from cold . \n",
    "        <br> a. When the user enters the fruit, check from the dictionary of edible fruits and non edible fruits\n",
    "        <br> b. Print appropriate message on finding the category of fruit\n",
    "        <br> c. If the fruit is not under the list recommend a doctor suggestion \n",
    "        <p> list of edible fruits \n",
    "            <br> Apple, Gauva, Raspberry, cherry, Jackfruit\n",
    "        <p> List of non-edible fruits\n",
    "            <br> Grapes, Orange,banana,Watermelon, mango"
   ]
  },
  {
   "cell_type": "code",
   "execution_count": null,
   "metadata": {},
   "outputs": [],
   "source": [
    "# %load if_4.py\n",
    "\n"
   ]
  }
 ],
 "metadata": {
  "kernelspec": {
   "display_name": "Python 3",
   "language": "python",
   "name": "python3"
  },
  "language_info": {
   "codemirror_mode": {
    "name": "ipython",
    "version": 3
   },
   "file_extension": ".py",
   "mimetype": "text/x-python",
   "name": "python",
   "nbconvert_exporter": "python",
   "pygments_lexer": "ipython3",
   "version": "3.7.7"
  }
 },
 "nbformat": 4,
 "nbformat_minor": 2
}
