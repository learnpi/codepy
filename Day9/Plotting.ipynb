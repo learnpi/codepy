{
 "cells": [
  {
   "cell_type": "code",
   "execution_count": null,
   "metadata": {},
   "outputs": [],
   "source": [
    "import matplotlib.pyplot as plt\n",
    "\n",
    "import numpy as np"
   ]
  },
  {
   "cell_type": "markdown",
   "metadata": {},
   "source": [
    "# Simple Plotting"
   ]
  },
  {
   "cell_type": "code",
   "execution_count": null,
   "metadata": {},
   "outputs": [],
   "source": [
    "%matplotlib inline\n",
    "t = np.arange(0., 5., 0.2)\n",
    "plt.plot(t, t)\n",
    "# plt.plot(t, t, 'r--', t, t**2, 'bs')\n",
    "# plt.plot(t, t, 'r--', t, t**2, 'bs', t, t**3, 'g^')\n",
    "plt.show()"
   ]
  },
  {
   "cell_type": "code",
   "execution_count": null,
   "metadata": {},
   "outputs": [],
   "source": [
    "def fn1(t):\n",
    "    return np.cos(2*np.pi*t)\n",
    "\n",
    "def fn2(t):\n",
    "    return np.sin(2*np.pi*t)"
   ]
  },
  {
   "cell_type": "code",
   "execution_count": null,
   "metadata": {},
   "outputs": [],
   "source": [
    "t1 = np.linspace(0,5,500)\n",
    "t2 = np.linspace(0,5,10)\n",
    "\n",
    "plt.figure()\n",
    "# plt.figure(1,(20,10))\n",
    "plt.subplot(211)\n",
    "plt.plot(t1,fn1(t1),'k',t2,fn1(t2),'bo')\n",
    "\n",
    "\n",
    "plt.subplot(212)\n",
    "plt.plot(t1,fn2(t1),'k',t2,fn2(t2),'bo')\n",
    "plt.show()"
   ]
  },
  {
   "cell_type": "code",
   "execution_count": null,
   "metadata": {},
   "outputs": [],
   "source": [
    "# %matplotlib notebook\n",
    "t1 = np.linspace(0,5,500)\n",
    "t2 = np.linspace(0,5,10)\n",
    "\n",
    "plt.figure(1)\n",
    "# plt.figure(2,(10,10))\n",
    "plt.subplot(311)\n",
    "plt.xlabel('t -->')\n",
    "plt.ylabel('cos(t)')\n",
    "plt.title('Cosine Plot')\n",
    "plt.grid(True)\n",
    "plt.plot(t1,fn1(t1),'k',t2,fn1(t2),'bo')\n",
    "\n",
    "\n",
    "plt.subplot(313)\n",
    "plt.xlabel('t -->')\n",
    "plt.ylabel('sin(t)')\n",
    "plt.title('Sine Plot')\n",
    "plt.plot(t1,fn2(t1),'k',t2,fn2(t2),'bo')\n",
    "plt.show()\n",
    "\n",
    "\n"
   ]
  },
  {
   "cell_type": "code",
   "execution_count": null,
   "metadata": {},
   "outputs": [],
   "source": [
    "t1 = np.linspace(0,5,500)\n",
    "t2 = np.linspace(0,5,10)\n",
    "\n",
    "# plt.figure(1)\n",
    "# plt.figure(1,(20,10))\n",
    "fig,ax = plt.subplots()\n",
    "ax.plot(t1,fn1(t1),'g--',label = 'Cosine')\n",
    "ax.plot(t2,fn1(t2),'bo',label = 'Sampled')\n",
    "ax.set_xlabel('t-->')\n",
    "ax.set_ylabel('Y-->')\n",
    "ax.set_title('Cosine function')\n",
    "ax.grid()\n",
    "ax.legend()\n",
    "\n",
    "plt.show()"
   ]
  },
  {
   "cell_type": "markdown",
   "metadata": {},
   "source": [
    "# Histogram"
   ]
  },
  {
   "cell_type": "code",
   "execution_count": null,
   "metadata": {},
   "outputs": [],
   "source": [
    "np.mean(marks),np.std(marks)"
   ]
  },
  {
   "cell_type": "code",
   "execution_count": null,
   "metadata": {},
   "outputs": [],
   "source": [
    "marks = np.array([35,35,35,45,77,70,80,90,35,65,55,55,50,38])\n",
    "\n",
    "plt.figure(1)\n",
    "plt.hist(marks,5)\n",
    "\n",
    "plt.grid(True)\n",
    "plt.legend(['Normal Curve'])\n",
    "plt.show()"
   ]
  },
  {
   "cell_type": "markdown",
   "metadata": {},
   "source": [
    "# Scatter Plot"
   ]
  },
  {
   "cell_type": "code",
   "execution_count": null,
   "metadata": {},
   "outputs": [],
   "source": [
    "bill = np.array([16.99, 10.34, 21.01, 23.68, 24.59, 25.29,  8.77, 26.88, 15.04,\n",
    "        14.78, 10.27, 35.26, 15.42, 18.43, 14.83, 21.58, 10.33, 16.29,\n",
    "        16.97, 20.65, 17.92, 20.29, 15.77, 39.42, 19.82, 17.81, 13.37,\n",
    "        12.69, 21.7 , 19.65,  9.55, 18.35, 15.06, 20.69, 17.78, 24.06,\n",
    "        16.31, 16.93, 18.69, 31.27, 16.04, 17.46, 13.94,  9.68, 30.4 ,\n",
    "        18.29, 22.23, 32.4 , 28.55, 18.04])\n",
    "tips = np.array([1.01, 1.66, 3.5 , 3.31, 3.61, 4.71, 2.  , 3.12, 1.96, 3.23, 1.71,\n",
    "        5.  , 1.57, 3.  , 3.02, 3.92, 1.67, 3.71, 3.5 , 3.35, 4.08, 2.75,\n",
    "        2.23, 7.58, 3.18, 2.34, 2.  , 2.  , 4.3 , 3.  , 1.45, 2.5 , 3.  ,\n",
    "        2.45, 3.27, 3.6 , 2.  , 3.07, 2.31, 5.  , 2.24, 2.54, 3.06, 1.32,\n",
    "        5.6 , 3.  , 5.  , 6.  , 2.05, 3.  ])"
   ]
  },
  {
   "cell_type": "code",
   "execution_count": null,
   "metadata": {},
   "outputs": [],
   "source": [
    "plt.figure()\n",
    "plt.scatter(bill,tips)\n",
    "plt.show()"
   ]
  },
  {
   "cell_type": "markdown",
   "metadata": {},
   "source": [
    "# Pie Plot"
   ]
  },
  {
   "cell_type": "code",
   "execution_count": null,
   "metadata": {},
   "outputs": [],
   "source": [
    "boys = 35\n",
    "girls = 25\n",
    "class_strength = np.array([boys,girls])"
   ]
  },
  {
   "cell_type": "code",
   "execution_count": null,
   "metadata": {},
   "outputs": [],
   "source": [
    "plt.figure()\n",
    "plt.pie(class_strength,labels = ['boys','girls'])\n",
    "plt.title('Class Strength')\n",
    "plt.show()"
   ]
  }
 ],
 "metadata": {
  "kernelspec": {
   "display_name": "Python 3",
   "language": "python",
   "name": "python3"
  },
  "language_info": {
   "codemirror_mode": {
    "name": "ipython",
    "version": 3
   },
   "file_extension": ".py",
   "mimetype": "text/x-python",
   "name": "python",
   "nbconvert_exporter": "python",
   "pygments_lexer": "ipython3",
   "version": "3.7.7"
  }
 },
 "nbformat": 4,
 "nbformat_minor": 4
}
