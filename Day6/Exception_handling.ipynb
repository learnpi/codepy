{
 "cells": [
  {
   "cell_type": "markdown",
   "metadata": {},
   "source": [
    "## A calculator function "
   ]
  },
  {
   "cell_type": "code",
   "execution_count": null,
   "metadata": {},
   "outputs": [],
   "source": [
    "def calculator(operation,a,b):\n",
    "        if (operation == 'add') or (operation == '+'):\n",
    "            return a+b\n",
    "        elif (operation=='sub') or (operation=='-'):\n",
    "            return a-b\n",
    "        elif (operation=='mul') or (operation=='*'):\n",
    "            return a*b\n",
    "        elif (operation=='div') or (operation=='/'):\n",
    "            return a/b\n",
    "        else: \n",
    "            return None"
   ]
  },
  {
   "cell_type": "code",
   "execution_count": null,
   "metadata": {},
   "outputs": [],
   "source": [
    "calculator('/',5,0)"
   ]
  },
  {
   "cell_type": "code",
   "execution_count": null,
   "metadata": {},
   "outputs": [],
   "source": [
    "calculator('+',5,'0')"
   ]
  },
  {
   "cell_type": "markdown",
   "metadata": {},
   "source": [
    "## Calculator function with try/except block"
   ]
  },
  {
   "cell_type": "code",
   "execution_count": null,
   "metadata": {},
   "outputs": [],
   "source": [
    "def calculator(operation,a,b):\n",
    "    try:\n",
    "        if (operation == 'add') or (operation == '+'):\n",
    "            return a+b\n",
    "        elif (operation=='sub') or (operation=='-'):\n",
    "            return a-b\n",
    "        elif (operation=='mul') or (operation=='*'):\n",
    "            return a*b\n",
    "        elif (operation=='div') or (operation=='/'):\n",
    "            return a/b\n",
    "        else: \n",
    "            return None\n",
    "    except:\n",
    "        print('There was an exception')"
   ]
  },
  {
   "cell_type": "code",
   "execution_count": null,
   "metadata": {},
   "outputs": [],
   "source": [
    "calculator('/',5,0)"
   ]
  },
  {
   "cell_type": "code",
   "execution_count": null,
   "metadata": {},
   "outputs": [],
   "source": [
    "calculator('+',5,'0')"
   ]
  },
  {
   "cell_type": "markdown",
   "metadata": {},
   "source": [
    "## Calculator function with try/except and exception message"
   ]
  },
  {
   "cell_type": "code",
   "execution_count": null,
   "metadata": {},
   "outputs": [],
   "source": [
    "def calculator(operation,a,b):\n",
    "    try:\n",
    "        if (operation == 'add') or (operation == '+'):\n",
    "            return a+b\n",
    "        elif (operation=='sub') or (operation=='-'):\n",
    "            return a-b\n",
    "        elif (operation=='mul') or (operation=='*'):\n",
    "            return a*b\n",
    "        elif (operation=='div') or (operation=='/'):\n",
    "            return a/b\n",
    "        else: \n",
    "            return None\n",
    "    except Exception as inst:\n",
    "        print(inst)"
   ]
  },
  {
   "cell_type": "code",
   "execution_count": null,
   "metadata": {},
   "outputs": [],
   "source": [
    "calculator('/',5,0)"
   ]
  },
  {
   "cell_type": "code",
   "execution_count": null,
   "metadata": {},
   "outputs": [],
   "source": [
    "calculator('+',5,'0')"
   ]
  },
  {
   "cell_type": "markdown",
   "metadata": {},
   "source": [
    "## Calculate function with single try and multiple exception "
   ]
  },
  {
   "cell_type": "code",
   "execution_count": null,
   "metadata": {},
   "outputs": [],
   "source": [
    "def calculator(operation,a,b):\n",
    "    try:\n",
    "        if (operation == 'add') or (operation == '+'):\n",
    "            return a+b\n",
    "        elif (operation=='sub') or (operation=='-'):\n",
    "            return a-b\n",
    "        elif (operation=='mul') or (operation=='*'):\n",
    "            return a*b\n",
    "        elif (operation=='div') or (operation=='/'):\n",
    "            return a/b\n",
    "        else:\n",
    "            return None\n",
    "    except ZeroDivisionError as ze:\n",
    "        print(ze)\n",
    "        print('Please enter a non zero value for the denominator')\n",
    "    except TypeError as te:\n",
    "        print(te)"
   ]
  },
  {
   "cell_type": "code",
   "execution_count": null,
   "metadata": {},
   "outputs": [],
   "source": [
    "calculator('/',5,0)"
   ]
  },
  {
   "cell_type": "code",
   "execution_count": null,
   "metadata": {},
   "outputs": [],
   "source": [
    "calculator('+',5,'0')"
   ]
  },
  {
   "cell_type": "markdown",
   "metadata": {},
   "source": [
    "## Calculate function with single try and mulitple exception along with user defined exception message"
   ]
  },
  {
   "cell_type": "code",
   "execution_count": null,
   "metadata": {},
   "outputs": [],
   "source": [
    "def calculator(operation,a,b):\n",
    "    try:\n",
    "        if (operation == 'add') or (operation == '+'):\n",
    "            return a+b\n",
    "        elif (operation=='sub') or (operation=='-'):\n",
    "            return a-b\n",
    "        elif (operation=='mul') or (operation=='*'):\n",
    "            return a*b\n",
    "        elif (operation=='div') or (operation=='/'):\n",
    "            return a/b\n",
    "        else:\n",
    "            return None\n",
    "    except ZeroDivisionError as e:\n",
    "        print(e)\n",
    "        print('Operation {} is not defined on {} & {}'.format(operation,a,b))\n",
    "    except TypeError as e:\n",
    "        print(e)\n",
    "        print('Please provide valid inputs')"
   ]
  },
  {
   "cell_type": "code",
   "execution_count": null,
   "metadata": {},
   "outputs": [],
   "source": [
    "calculator('/',5,0)"
   ]
  },
  {
   "cell_type": "code",
   "execution_count": null,
   "metadata": {},
   "outputs": [],
   "source": [
    "calculator('+',5,'0')"
   ]
  },
  {
   "cell_type": "markdown",
   "metadata": {},
   "source": [
    "## Calculator function with raise exception"
   ]
  },
  {
   "cell_type": "code",
   "execution_count": null,
   "metadata": {},
   "outputs": [],
   "source": [
    "def calculator(operation,a,b):\n",
    "    try:\n",
    "        if (operation == 'add') or (operation == '+'):\n",
    "            return a+b\n",
    "        elif (operation=='sub') or (operation=='-'):\n",
    "            return a-b\n",
    "        elif (operation=='mul') or (operation=='*'):\n",
    "            return a*b\n",
    "        elif (operation=='div') or (operation=='/'):\n",
    "            return a/b\n",
    "        else:\n",
    "            raise TypeError\n",
    "    except ZeroDivisionError as e:\n",
    "        print(e)\n",
    "        print('Operation {} is not defined on {} & {}'.format(operation,a,b))\n",
    "    except TypeError as e:\n",
    "        print(e)\n",
    "        print('Please provide valid inputs')"
   ]
  },
  {
   "cell_type": "code",
   "execution_count": null,
   "metadata": {},
   "outputs": [],
   "source": [
    "calculator('/',5,0)"
   ]
  },
  {
   "cell_type": "code",
   "execution_count": null,
   "metadata": {},
   "outputs": [],
   "source": [
    "calculator('+',5,'0')"
   ]
  },
  {
   "cell_type": "code",
   "execution_count": null,
   "metadata": {},
   "outputs": [],
   "source": [
    "calculator('+*',5,0)"
   ]
  },
  {
   "cell_type": "markdown",
   "metadata": {},
   "source": [
    "## Function to read files"
   ]
  },
  {
   "cell_type": "code",
   "execution_count": null,
   "metadata": {},
   "outputs": [],
   "source": [
    "def read_file(file):\n",
    "    try:\n",
    "        fh = open(file)\n",
    "        raise TypeError\n",
    "            \n",
    "    except:\n",
    "        print('Inside except block')\n",
    "        print('Has the file {} closed : {}'.format(file,fh.closed)) \n",
    "\n",
    "    finally:\n",
    "        fh.close()\n",
    "        print('Inside finally block')\n",
    "        print('Has the file {} closed : {}'.format(file,fh.closed))"
   ]
  },
  {
   "cell_type": "code",
   "execution_count": null,
   "metadata": {},
   "outputs": [],
   "source": [
    "read_file('mbox-short.txt')"
   ]
  },
  {
   "cell_type": "code",
   "execution_count": null,
   "metadata": {},
   "outputs": [],
   "source": []
  }
 ],
 "metadata": {
  "kernelspec": {
   "display_name": "Python 3",
   "language": "python",
   "name": "python3"
  },
  "language_info": {
   "codemirror_mode": {
    "name": "ipython",
    "version": 3
   },
   "file_extension": ".py",
   "mimetype": "text/x-python",
   "name": "python",
   "nbconvert_exporter": "python",
   "pygments_lexer": "ipython3",
   "version": "3.7.7"
  }
 },
 "nbformat": 4,
 "nbformat_minor": 2
}
