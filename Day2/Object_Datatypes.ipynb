{
 "cells": [
  {
   "cell_type": "markdown",
   "metadata": {},
   "source": [
    "# Python objects"
   ]
  },
  {
   "cell_type": "markdown",
   "metadata": {},
   "source": [
    "# Object types"
   ]
  },
  {
   "cell_type": "markdown",
   "metadata": {},
   "source": [
    "<table id=\"built-in_objects_preview\"><caption><span class=\"label\">Table 4-1. </span></caption><thead><tr><th>Object\n",
    "            type</th><th>Example\n",
    "            literals/creation</th></tr></thead><tbody><tr><td><p>Num<a data-type=\"indexterm\" data-primary=\"numbers\" data-secondary=\"numeric literals\" id=\"idm45598228681320\"></a><a data-type=\"indexterm\" data-primary=\"literals\" data-secondary=\"numeric\" id=\"idm45598228680344\"></a>bers</p></td><td><p><code>1234</code>, <code>3.1415</code>, <code>3+4j</code>, <code>0b111</code>, <code>Decimal()</code>, <code>Fraction()</code></p></td></tr><tr><td><p>Strin<a data-type=\"indexterm\" data-primary=\"strings (str object)\" data-secondary=\"literals\" id=\"idm45598228673432\"></a><a data-type=\"indexterm\" data-primary=\"literals\" data-secondary=\"string\" id=\"idm45598228672280\"></a>gs</p></td><td><p><code>'spam'</code>, <code>\"Bob's\"</code>, <code>b'a\\x01c'</code>, <code>u'sp\\xc4m'</code></p></td></tr><tr><td><p>Lis<a data-type=\"indexterm\" data-primary=\"lists (list object)\" data-secondary=\"literals\" id=\"idm45598228668248\"></a><a data-type=\"indexterm\" data-primary=\"literals\" data-secondary=\"list\" id=\"idm45598228667016\"></a>ts</p></td><td><p><code>[1, [2, 'three'], 4.5]</code>, <code>list(range(10))</code></p></td></tr><tr><td><p>Dict<a data-type=\"indexterm\" data-primary=\"dictionaries (dict object)\" data-secondary=\"literals\" id=\"idm45598228663496\"></a><a data-type=\"indexterm\" data-primary=\"literals\" data-secondary=\"dictionary\" id=\"idm45598228662264\"></a>ionaries</p></td><td><p><code>{'food': 'spam', 'taste': 'yum'}</code>,\n",
    "            <code>dict(hours=10)</code></p></td></tr><tr><td><p>Tup<a data-type=\"indexterm\" data-primary=\"tuples\" data-secondary=\"literals\" id=\"idm45598228658776\"></a><a data-type=\"indexterm\" data-primary=\"literals\" data-secondary=\"tuple\" id=\"idm45598228657480\"></a>les</p></td><td><p><code>(1, 'spam', 4, 'U')</code>, <code>tuple('spam')</code>, <code>namedtuple</code></p></td></tr><tr><td><p>Set<a data-type=\"indexterm\" data-primary=\"sets\" data-secondary=\"literals\" id=\"idm45598228648696\"></a><a data-type=\"indexterm\" data-primary=\"literals\" data-secondary=\"set\" id=\"idm45598228647496\"></a>s</p></td><td><p><code>set('abc')</code>, <code>{'a', 'b', 'c'}</code></p></td></tr></tbody></table"
   ]
  },
  {
   "cell_type": "markdown",
   "metadata": {},
   "source": [
    "<html>\n",
    "    <i> Source  : Learning Python, 5th Edition\n",
    "by Mark Lutz </i>"
   ]
  },
  {
   "cell_type": "markdown",
   "metadata": {},
   "source": [
    "# Numerical Datatype"
   ]
  },
  {
   "cell_type": "markdown",
   "metadata": {},
   "source": [
    "<table id=\"numeric_literals_and_constructors\"><caption><span class=\"label\">Table 5-1. </span></caption><thead><tr><th>Literal</th><th>Interpretation</th></tr></thead><tbody><tr><td><p><code>1234</code>, <code>−24</code>, <code>0</code>, <code>99999999999999</code></p></td><td><p>Integers (unlimited\n",
    "              size)</p></td></tr><tr><td><p><code>1.23</code>, <code>1.</code>, <code>3.14e-10</code>, <code>4E210</code>, <code>4.0e+210</code></p></td><td><p>Floating-point\n",
    "              numbers</p></td></tr><tr><td><p><code>0o177</code>, <code>0x9ff</code>, <code>0b101010</code></p></td><td><p>Octal, hex, and binary\n",
    "              literals in 3.X</p></td></tr><tr><td><p><code>3+4j</code>, <code>3.0+4.0j</code>, <code>3J</code></p></td><td><p>Complex number\n",
    "              literals</p></td></tr></tbody></table>"
   ]
  },
  {
   "cell_type": "markdown",
   "metadata": {},
   "source": [
    "<html>\n",
    "    <i> Source  : Learning Python, 5th Edition\n",
    "by Mark Lutz </i>"
   ]
  },
  {
   "cell_type": "code",
   "execution_count": null,
   "metadata": {},
   "outputs": [],
   "source": [
    "x = 4\n",
    "print(type(x))"
   ]
  },
  {
   "cell_type": "code",
   "execution_count": null,
   "metadata": {},
   "outputs": [],
   "source": [
    "print(dir(x))"
   ]
  },
  {
   "cell_type": "code",
   "execution_count": null,
   "metadata": {},
   "outputs": [],
   "source": [
    "help(x.conjugate)"
   ]
  },
  {
   "cell_type": "markdown",
   "metadata": {},
   "source": [
    "<html>\n",
    "    <b> Mathematical Operators and Description </b>"
   ]
  },
  {
   "cell_type": "markdown",
   "metadata": {},
   "source": [
    "<thead><tr><th>Operators</th><th>Description</th></tr></thead><tbody><tr><td><p><code>x + y</code></p> <p><code>x – y</code></p></td><td><p>Addition,\n",
    "              concatenation;</p> <p>Subtraction, set\n",
    "              difference</p></td></tr><tr><td><p><code>x * y</code></p> <p><code>x % y</code></p> <p><code>x / y</code>, <code>x // y</code></p></td><td><p>Multiplication,<a data-type=\"indexterm\" data-primary=\"modulus operator\" id=\"idm45598227378312\"></a><a data-type=\"indexterm\" data-primary=\"% (percent sign)\" data-secondary=\"numeric modulus operator\" id=\"idm45598227377304\"></a>\n",
    "              <a data-type=\"indexterm\" data-primary=\"mathematical operations\" data-secondary=\"expression operators\" id=\"idm45598227376264\"></a>repetition;</p> <p>Remainder, format;</p>\n",
    "              <p>Division: true and floor</p></td></tr><tr><td><p><code>−x</code>, <code>+x</code></p></td><td><p>Negation,\n",
    "              identity</p></td></tr><tr><td><p><code>˜x</code></p></td><td><p>Bitwise NOT\n",
    "              (inversion)</p></td></tr><tr><td><p><code>x ** y</code></p></td><td><p>Power\n",
    "              (exponentiation)</p></td></tr></tbody></table>"
   ]
  },
  {
   "cell_type": "code",
   "execution_count": null,
   "metadata": {},
   "outputs": [],
   "source": [
    "x = 5\n",
    "y = 5\n",
    "id(x),id(y)"
   ]
  },
  {
   "cell_type": "code",
   "execution_count": null,
   "metadata": {
    "scrolled": true
   },
   "outputs": [],
   "source": [
    "x = 5\n",
    "y = 2\n",
    "result_nor = x/y\n",
    "result_floor = x//y\n",
    "print(result_nor)\n",
    "print(result_floor)"
   ]
  },
  {
   "cell_type": "markdown",
   "metadata": {},
   "source": [
    "# Text Datatype"
   ]
  },
  {
   "cell_type": "markdown",
   "metadata": {},
   "source": [
    "<html>\n",
    "    <b> 1. Write a program to compute gross pay, given hours and rate per hour.</b>    \n",
    "    <p><i> Hours</i>: 35 </p>\n",
    "    <p><i> Rate</i>: 2.75</p>\n",
    "    <p> <b> Expected Output </b>\n",
    "    <p><i>Pay</i>: 96.25</p>"
   ]
  },
  {
   "cell_type": "code",
   "execution_count": null,
   "metadata": {},
   "outputs": [],
   "source": []
  },
  {
   "cell_type": "code",
   "execution_count": null,
   "metadata": {},
   "outputs": [],
   "source": [
    "x_str = 'Hello'"
   ]
  },
  {
   "cell_type": "code",
   "execution_count": null,
   "metadata": {},
   "outputs": [],
   "source": [
    "print(dir(x_str))"
   ]
  },
  {
   "cell_type": "code",
   "execution_count": null,
   "metadata": {},
   "outputs": [],
   "source": [
    "#Indexing \n",
    "print(x_str[0])"
   ]
  },
  {
   "cell_type": "code",
   "execution_count": null,
   "metadata": {},
   "outputs": [],
   "source": [
    "id(x_str),id(x_str[0]),id(x_str[1])"
   ]
  },
  {
   "cell_type": "markdown",
   "metadata": {},
   "source": [
    "## Operator Overloading for Strings"
   ]
  },
  {
   "cell_type": "code",
   "execution_count": null,
   "metadata": {},
   "outputs": [],
   "source": [
    "#Concatenation\n",
    "y_str = x_str + ' Python'\n"
   ]
  },
  {
   "cell_type": "code",
   "execution_count": null,
   "metadata": {},
   "outputs": [],
   "source": [
    "'Hello' * 3"
   ]
  },
  {
   "cell_type": "markdown",
   "metadata": {},
   "source": [
    "# Output Formats"
   ]
  },
  {
   "cell_type": "code",
   "execution_count": null,
   "metadata": {},
   "outputs": [],
   "source": [
    "print(y_str)\n",
    "print('The concantenated string of',x_str,' and','Python','is',y_str)\n",
    "print('The concantenated string of {0} and {1} is {2}'.format(x_str,'Python',y_str))"
   ]
  },
  {
   "cell_type": "code",
   "execution_count": null,
   "metadata": {},
   "outputs": [],
   "source": []
  },
  {
   "cell_type": "code",
   "execution_count": null,
   "metadata": {},
   "outputs": [],
   "source": [
    "#Slicing \n",
    "print(y_str[1:5])"
   ]
  },
  {
   "cell_type": "markdown",
   "metadata": {},
   "source": [
    "# Slicing using Positive Index"
   ]
  },
  {
   "cell_type": "code",
   "execution_count": null,
   "metadata": {},
   "outputs": [],
   "source": [
    "y_str[:6]"
   ]
  },
  {
   "cell_type": "code",
   "execution_count": null,
   "metadata": {},
   "outputs": [],
   "source": [
    "y_str[::3]"
   ]
  },
  {
   "cell_type": "markdown",
   "metadata": {},
   "source": [
    "# Slicing using Negative index"
   ]
  },
  {
   "cell_type": "code",
   "execution_count": null,
   "metadata": {},
   "outputs": [],
   "source": [
    "y_str[-2]"
   ]
  },
  {
   "cell_type": "code",
   "execution_count": null,
   "metadata": {},
   "outputs": [],
   "source": [
    "y_str[-6:-2:2]"
   ]
  },
  {
   "cell_type": "markdown",
   "metadata": {},
   "source": [
    "## Input from the user"
   ]
  },
  {
   "cell_type": "markdown",
   "metadata": {},
   "source": [
    "<html>\n",
    "    <b>Syntax</b>\n",
    "    <p> input('<i> User Prompt </i>')</p>\n",
    "    <p> Returns the text enter by the user</p>"
   ]
  },
  {
   "cell_type": "code",
   "execution_count": null,
   "metadata": {},
   "outputs": [],
   "source": [
    "user_input = input('Enter an integer')"
   ]
  },
  {
   "cell_type": "code",
   "execution_count": null,
   "metadata": {},
   "outputs": [],
   "source": [
    "user_input,type(user_input)"
   ]
  },
  {
   "cell_type": "code",
   "execution_count": null,
   "metadata": {},
   "outputs": [],
   "source": [
    "name = input('Enter your name: ')"
   ]
  },
  {
   "cell_type": "code",
   "execution_count": null,
   "metadata": {},
   "outputs": [],
   "source": [
    "name"
   ]
  },
  {
   "cell_type": "markdown",
   "metadata": {},
   "source": [
    "# Lists"
   ]
  },
  {
   "cell_type": "code",
   "execution_count": null,
   "metadata": {},
   "outputs": [],
   "source": [
    "lst_num = [1,2,3,4,5,6,7]"
   ]
  },
  {
   "cell_type": "code",
   "execution_count": null,
   "metadata": {},
   "outputs": [],
   "source": [
    "lst_names = list()\n",
    "lst_fruits = []"
   ]
  },
  {
   "cell_type": "code",
   "execution_count": null,
   "metadata": {},
   "outputs": [],
   "source": [
    "lst_names = ['Harry','Ron','Draco']"
   ]
  },
  {
   "cell_type": "code",
   "execution_count": null,
   "metadata": {},
   "outputs": [],
   "source": [
    "lst_num[0],lst_num[2]"
   ]
  },
  {
   "cell_type": "code",
   "execution_count": null,
   "metadata": {},
   "outputs": [],
   "source": [
    "lst_num[:4],lst_num[-5],lst_num[-5:-1],lst_num[:-5:-1]"
   ]
  },
  {
   "cell_type": "code",
   "execution_count": null,
   "metadata": {},
   "outputs": [],
   "source": [
    "lst_items = ['harry','Ron',1,2,3,4,1.5,5.8]"
   ]
  },
  {
   "cell_type": "markdown",
   "metadata": {},
   "source": [
    "# Lists are Mutable"
   ]
  },
  {
   "cell_type": "code",
   "execution_count": null,
   "metadata": {},
   "outputs": [],
   "source": [
    "lst_items[-2] = 1.5\n",
    "lst_items"
   ]
  },
  {
   "cell_type": "code",
   "execution_count": null,
   "metadata": {},
   "outputs": [],
   "source": [
    "lst_items_mod = lst_items"
   ]
  },
  {
   "cell_type": "code",
   "execution_count": null,
   "metadata": {},
   "outputs": [],
   "source": [
    "lst_items_mod[-2] = 'Hello'"
   ]
  },
  {
   "cell_type": "code",
   "execution_count": null,
   "metadata": {},
   "outputs": [],
   "source": [
    "lst_items"
   ]
  },
  {
   "cell_type": "markdown",
   "metadata": {},
   "source": [
    "# Shallow copy"
   ]
  },
  {
   "cell_type": "code",
   "execution_count": null,
   "metadata": {},
   "outputs": [],
   "source": []
  },
  {
   "cell_type": "markdown",
   "metadata": {},
   "source": [
    "# Deep Copy"
   ]
  },
  {
   "cell_type": "code",
   "execution_count": null,
   "metadata": {},
   "outputs": [],
   "source": []
  },
  {
   "cell_type": "markdown",
   "metadata": {},
   "source": [
    "## Operator Overloaded for Lists"
   ]
  },
  {
   "cell_type": "code",
   "execution_count": null,
   "metadata": {},
   "outputs": [],
   "source": [
    "lst_1 = lst_num *3\n",
    "id(lst_1),id(lst_num)"
   ]
  },
  {
   "cell_type": "code",
   "execution_count": null,
   "metadata": {},
   "outputs": [],
   "source": [
    "lst_items + lst_num"
   ]
  },
  {
   "cell_type": "markdown",
   "metadata": {},
   "source": [
    "## Most commonly used functions in List"
   ]
  },
  {
   "cell_type": "code",
   "execution_count": null,
   "metadata": {},
   "outputs": [],
   "source": [
    "lst_num.append([76,89])"
   ]
  },
  {
   "cell_type": "code",
   "execution_count": null,
   "metadata": {},
   "outputs": [],
   "source": [
    "lst_num.extend([100,120,135])\n",
    "lst_num"
   ]
  },
  {
   "cell_type": "code",
   "execution_count": null,
   "metadata": {},
   "outputs": [],
   "source": [
    "lst_num.index(2)"
   ]
  },
  {
   "cell_type": "code",
   "execution_count": null,
   "metadata": {},
   "outputs": [],
   "source": [
    "lst_num1.sort()\n",
    "lst_num1"
   ]
  },
  {
   "cell_type": "code",
   "execution_count": null,
   "metadata": {},
   "outputs": [],
   "source": [
    "lst_names + lst_num"
   ]
  },
  {
   "cell_type": "markdown",
   "metadata": {},
   "source": [
    "# Tuples"
   ]
  },
  {
   "cell_type": "code",
   "execution_count": null,
   "metadata": {},
   "outputs": [],
   "source": [
    "tup_num = tuple()"
   ]
  },
  {
   "cell_type": "code",
   "execution_count": null,
   "metadata": {},
   "outputs": [],
   "source": [
    "print(dir(tup_num))"
   ]
  },
  {
   "cell_type": "code",
   "execution_count": null,
   "metadata": {},
   "outputs": [],
   "source": [
    "tup_cntry_1 = ('India','SriLanka','Bangladesh','Australia','China','Nepal')\n",
    "tup_cntry_2 = ('USA','Russia','Canada','UK','WestIndies','Iraq','SouthAfrica')"
   ]
  },
  {
   "cell_type": "code",
   "execution_count": null,
   "metadata": {},
   "outputs": [],
   "source": [
    "tup_cntry_1[2] = 'Chile'"
   ]
  },
  {
   "cell_type": "code",
   "execution_count": null,
   "metadata": {},
   "outputs": [],
   "source": [
    "#Indexing\n",
    "tup_cntry_1[1:4]"
   ]
  },
  {
   "cell_type": "code",
   "execution_count": null,
   "metadata": {},
   "outputs": [],
   "source": [
    "tup_cntry = tup_cntry_1 +tup_cntry_2 \n",
    "print(tup_cntry)"
   ]
  },
  {
   "cell_type": "markdown",
   "metadata": {},
   "source": [
    "# Dictionary"
   ]
  },
  {
   "cell_type": "code",
   "execution_count": null,
   "metadata": {},
   "outputs": [],
   "source": [
    "dict_num = dict()"
   ]
  },
  {
   "cell_type": "code",
   "execution_count": null,
   "metadata": {},
   "outputs": [],
   "source": [
    "dict_num = {1:'one',2:'two',3:'three',4:'four'}"
   ]
  },
  {
   "cell_type": "code",
   "execution_count": null,
   "metadata": {},
   "outputs": [],
   "source": [
    "dict_num[4]"
   ]
  },
  {
   "cell_type": "code",
   "execution_count": null,
   "metadata": {},
   "outputs": [],
   "source": [
    "print(dir(dict_num))"
   ]
  },
  {
   "cell_type": "code",
   "execution_count": null,
   "metadata": {},
   "outputs": [],
   "source": [
    "dict_num[1]"
   ]
  },
  {
   "cell_type": "code",
   "execution_count": null,
   "metadata": {},
   "outputs": [],
   "source": [
    "dict_num[5] = 'five'"
   ]
  },
  {
   "cell_type": "markdown",
   "metadata": {},
   "source": [
    "## Most commonly used functions in dictionary"
   ]
  },
  {
   "cell_type": "code",
   "execution_count": null,
   "metadata": {},
   "outputs": [],
   "source": [
    "dict_num.values()"
   ]
  },
  {
   "cell_type": "code",
   "execution_count": null,
   "metadata": {},
   "outputs": [],
   "source": [
    "dict_num.keys()"
   ]
  },
  {
   "cell_type": "code",
   "execution_count": null,
   "metadata": {},
   "outputs": [],
   "source": [
    "dict_num.items()"
   ]
  },
  {
   "cell_type": "code",
   "execution_count": null,
   "metadata": {},
   "outputs": [],
   "source": [
    "help(dict_num.get)"
   ]
  },
  {
   "cell_type": "markdown",
   "metadata": {},
   "source": [
    "# Sets"
   ]
  },
  {
   "cell_type": "code",
   "execution_count": null,
   "metadata": {},
   "outputs": [],
   "source": [
    "set_num = {1,2,3,4,5,6,5,6,4,7,'hello','Hello'}"
   ]
  },
  {
   "cell_type": "code",
   "execution_count": null,
   "metadata": {},
   "outputs": [],
   "source": [
    "lst_digits = [1,2,3,4,4,3,6,7,7]"
   ]
  },
  {
   "cell_type": "code",
   "execution_count": null,
   "metadata": {},
   "outputs": [],
   "source": [
    "set(lst_digits)"
   ]
  },
  {
   "cell_type": "code",
   "execution_count": null,
   "metadata": {},
   "outputs": [],
   "source": [
    "set_num"
   ]
  },
  {
   "cell_type": "code",
   "execution_count": null,
   "metadata": {},
   "outputs": [],
   "source": [
    "print(dir(set_num))"
   ]
  },
  {
   "cell_type": "code",
   "execution_count": null,
   "metadata": {},
   "outputs": [],
   "source": [
    "print(id(set_num))\n",
    "set_num.add(30)\n",
    "print(id(set_num))"
   ]
  },
  {
   "cell_type": "markdown",
   "metadata": {},
   "source": [
    "# Category of Object Datatypes\n",
    "## Mutable \n",
    "## Immutable"
   ]
  },
  {
   "cell_type": "code",
   "execution_count": null,
   "metadata": {},
   "outputs": [],
   "source": []
  },
  {
   "cell_type": "code",
   "execution_count": null,
   "metadata": {},
   "outputs": [],
   "source": []
  },
  {
   "cell_type": "markdown",
   "metadata": {},
   "source": [
    "<html>\n",
    "    <b> 1. Write a program to prompt the user for hours and rate per hour to\n",
    "        compute gross pay.</b>\n",
    "    <p> <b><i>Expected Output</i></b></p>\n",
    "    <p><i>Enter Hours</i>: 35 </p>\n",
    "    <p><i>Enter Rate</i>: 2.75</p>\n",
    "    <p><i>Pay</i>: 96.25</p>"
   ]
  },
  {
   "cell_type": "code",
   "execution_count": null,
   "metadata": {},
   "outputs": [],
   "source": [
    "# %load 1_4.py\n",
    "\n"
   ]
  },
  {
   "cell_type": "markdown",
   "metadata": {},
   "source": [
    "<html>\n",
    "    <b>2. Write a program which prompts the user for a Celsius temperature,\n",
    "        convert the temperature to Fahrenheit, and print out the converted temperature.</b>\n",
    "    </html>\n",
    "    <p><b> Hint :</b></p>\n",
    "    <p> <b> Formula</b> </p>\n",
    "    <p> $ (0°C × 9/5) + 32 = 32°F $ </p>\n",
    "\n",
    "    "
   ]
  },
  {
   "cell_type": "code",
   "execution_count": null,
   "metadata": {},
   "outputs": [],
   "source": [
    "# %load 1_3.py\n",
    "\n"
   ]
  },
  {
   "cell_type": "markdown",
   "metadata": {},
   "source": [
    "<html>\n",
    "    <b> 3. Write a program to prompt the user for his/her 'ID', 'Name' and 'Hobbies'\n",
    "        <br>a. Create a dictionary having keys as 'ID','Name','Hobbies' and fill the values from the respective entry by the user\n",
    "        <br> b. Print the dictionary variable"
   ]
  },
  {
   "cell_type": "code",
   "execution_count": null,
   "metadata": {},
   "outputs": [],
   "source": [
    "# %load dict_1.py\n"
   ]
  }
 ],
 "metadata": {
  "kernelspec": {
   "display_name": "Python 3",
   "language": "python",
   "name": "python3"
  },
  "language_info": {
   "codemirror_mode": {
    "name": "ipython",
    "version": 3
   },
   "file_extension": ".py",
   "mimetype": "text/x-python",
   "name": "python",
   "nbconvert_exporter": "python",
   "pygments_lexer": "ipython3",
   "version": "3.7.7"
  }
 },
 "nbformat": 4,
 "nbformat_minor": 2
}
